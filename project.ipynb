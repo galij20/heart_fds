{
 "cells": [
  {
   "cell_type": "markdown",
   "metadata": {},
   "source": [
    "## Heart Attack Risk Prediction Model \n",
    "This is the \n",
    "\n",
    "\n",
    "\n",
    "\n",
    "## Import Libraries\n",
    "We start this project by importing all the libraries required to complete this project "
   ]
  },
  {
   "cell_type": "code",
   "execution_count": 1,
   "metadata": {},
   "outputs": [],
   "source": [
    "#import libraries\n",
    "\n",
    "# 1. to handle the data\n",
    "import numpy as np\n",
    "import pandas as pd\n",
    "\n",
    "# 2. To visualize the data\n",
    "import matplotlib.pyplot as plt\n",
    "import seaborn as sns\n",
    "\n",
    "# 3. To preprocess the data\n",
    "from sklearn.preprocessing import StandardScaler, MinMaxScaler, LabelEncoder\n",
    "\n",
    "# 4. To train the machine \n",
    "from sklearn.model_selection import train_test_split\n",
    "\n",
    "# 5. For classification task\n",
    "from sklearn.linear_model import LogisticRegression\n",
    "\n",
    "# 6. For metrics\n",
    "from sklearn.metrics import accuracy_score, confusion_matrix\n",
    "\n"
   ]
  },
  {
   "cell_type": "markdown",
   "metadata": {},
   "source": [
    "## Load the dataset"
   ]
  },
  {
   "cell_type": "code",
   "execution_count": 2,
   "metadata": {},
   "outputs": [],
   "source": [
    "df = pd.read_csv(\"./heart_attack_prediction_dataset.csv\")\n",
    "#df.head()"
   ]
  },
  {
   "cell_type": "markdown",
   "metadata": {},
   "source": [
    "## Exploratory Data Analysis (EDA)"
   ]
  },
  {
   "cell_type": "markdown",
   "metadata": {},
   "source": [
    "Exploring each column"
   ]
  },
  {
   "cell_type": "code",
   "execution_count": 3,
   "metadata": {},
   "outputs": [
    {
     "name": "stdout",
     "output_type": "stream",
     "text": [
      "<class 'pandas.core.frame.DataFrame'>\n",
      "RangeIndex: 8763 entries, 0 to 8762\n",
      "Data columns (total 26 columns):\n",
      " #   Column                           Non-Null Count  Dtype  \n",
      "---  ------                           --------------  -----  \n",
      " 0   Patient ID                       8763 non-null   object \n",
      " 1   Age                              8763 non-null   int64  \n",
      " 2   Sex                              8763 non-null   object \n",
      " 3   Cholesterol                      8763 non-null   int64  \n",
      " 4   Blood Pressure                   8763 non-null   object \n",
      " 5   Heart Rate                       8763 non-null   int64  \n",
      " 6   Diabetes                         8763 non-null   int64  \n",
      " 7   Family History                   8763 non-null   int64  \n",
      " 8   Smoking                          8763 non-null   int64  \n",
      " 9   Obesity                          8763 non-null   int64  \n",
      " 10  Alcohol Consumption              8763 non-null   int64  \n",
      " 11  Exercise Hours Per Week          8763 non-null   float64\n",
      " 12  Diet                             8763 non-null   object \n",
      " 13  Previous Heart Problems          8763 non-null   int64  \n",
      " 14  Medication Use                   8763 non-null   int64  \n",
      " 15  Stress Level                     8763 non-null   int64  \n",
      " 16  Sedentary Hours Per Day          8763 non-null   float64\n",
      " 17  Income                           8763 non-null   int64  \n",
      " 18  BMI                              8763 non-null   float64\n",
      " 19  Triglycerides                    8763 non-null   int64  \n",
      " 20  Physical Activity Days Per Week  8763 non-null   int64  \n",
      " 21  Sleep Hours Per Day              8763 non-null   int64  \n",
      " 22  Country                          8763 non-null   object \n",
      " 23  Continent                        8763 non-null   object \n",
      " 24  Hemisphere                       8763 non-null   object \n",
      " 25  Heart Attack Risk                8763 non-null   int64  \n",
      "dtypes: float64(3), int64(16), object(7)\n",
      "memory usage: 1.7+ MB\n"
     ]
    }
   ],
   "source": [
    "df.info()\n"
   ]
  },
  {
   "cell_type": "code",
   "execution_count": 4,
   "metadata": {},
   "outputs": [
    {
     "data": {
      "text/plain": [
       "(8763, 26)"
      ]
     },
     "execution_count": 4,
     "metadata": {},
     "output_type": "execute_result"
    }
   ],
   "source": [
    "df.shape"
   ]
  },
  {
   "cell_type": "code",
   "execution_count": 5,
   "metadata": {},
   "outputs": [
    {
     "data": {
      "text/plain": [
       "(18, 90)"
      ]
     },
     "execution_count": 5,
     "metadata": {},
     "output_type": "execute_result"
    }
   ],
   "source": [
    "df['Age'].min(), df['Age'].max()"
   ]
  },
  {
   "cell_type": "code",
   "execution_count": 6,
   "metadata": {},
   "outputs": [
    {
     "data": {
      "text/plain": [
       "count    8763.000000\n",
       "mean       53.707977\n",
       "std        21.249509\n",
       "min        18.000000\n",
       "25%        35.000000\n",
       "50%        54.000000\n",
       "75%        72.000000\n",
       "max        90.000000\n",
       "Name: Age, dtype: float64"
      ]
     },
     "execution_count": 6,
     "metadata": {},
     "output_type": "execute_result"
    }
   ],
   "source": [
    "df['Age'].describe()"
   ]
  },
  {
   "cell_type": "code",
   "execution_count": 7,
   "metadata": {},
   "outputs": [
    {
     "data": {
      "text/plain": [
       "<AxesSubplot: xlabel='Age', ylabel='Count'>"
      ]
     },
     "execution_count": 7,
     "metadata": {},
     "output_type": "execute_result"
    },
    {
     "data": {
      "image/png": "[encoded data removed]",
      "text/plain": [
       "<Figure size 640x480 with 1 Axes>"
      ]
     },
     "metadata": {},
     "output_type": "display_data"
    }
   ],
   "source": [
    "sns.histplot(df['Age'], kde = True)"
   ]
  },
  {
   "cell_type": "code",
   "execution_count": 8,
   "metadata": {},
   "outputs": [
    {
     "data": {
      "text/plain": [
       "<AxesSubplot: xlabel='Age', ylabel='Count'>"
      ]
     },
     "execution_count": 8,
     "metadata": {},
     "output_type": "execute_result"
    },
    {
     "data": {
      "image/png": "[encoded data removed]",
      "text/plain": [
       "<Figure size 640x480 with 1 Axes>"
      ]
     },
     "metadata": {},
     "output_type": "display_data"
    }
   ],
   "source": [
    "sample_df = df.sample(frac = 0.1, random_state=42)\n",
    "sns.histplot(sample_df['Age'], kde=True)\n"
   ]
  },
  {
   "cell_type": "code",
   "execution_count": 9,
   "metadata": {},
   "outputs": [
    {
     "name": "stdout",
     "output_type": "stream",
     "text": [
      "     Patient ID  Age     Sex  Cholesterol Blood Pressure  Heart Rate  \\\n",
      "0       BMW7812   67    Male          208         158/88          72   \n",
      "1       CZE1114   21    Male          389         165/93          98   \n",
      "2       BNI9906   21  Female          324         174/99          72   \n",
      "3       JLN3497   84    Male          383        163/100          73   \n",
      "4       GFO8847   66    Male          318          91/88          93   \n",
      "...         ...  ...     ...          ...            ...         ...   \n",
      "8758    MSV9918   60    Male          121          94/76          61   \n",
      "8759    QSV6764   28  Female          120        157/102          73   \n",
      "8760    XKA5925   47    Male          250         161/75         105   \n",
      "8761    EPE6801   36    Male          178         119/67          60   \n",
      "8762    ZWN9666   25  Female          356         138/67          75   \n",
      "\n",
      "      Diabetes  Family History  Smoking  Obesity  ...  \\\n",
      "0            0               0        1        0  ...   \n",
      "1            1               1        1        1  ...   \n",
      "2            1               0        0        0  ...   \n",
      "3            1               1        1        0  ...   \n",
      "4            1               1        1        1  ...   \n",
      "...        ...             ...      ...      ...  ...   \n",
      "8758         1               1        1        0  ...   \n",
      "8759         1               0        0        1  ...   \n",
      "8760         0               1        1        1  ...   \n",
      "8761         1               0        1        0  ...   \n",
      "8762         1               1        0        0  ...   \n",
      "\n",
      "      Sedentary Hours Per Day  Income        BMI  Triglycerides  \\\n",
      "0                    6.615001  261404  31.251233            286   \n",
      "1                    4.963459  285768  27.194973            235   \n",
      "2                    9.463426  235282  28.176571            587   \n",
      "3                    7.648981  125640  36.464704            378   \n",
      "4                    1.514821  160555  21.809144            231   \n",
      "...                       ...     ...        ...            ...   \n",
      "8758                10.806373  235420  19.655895             67   \n",
      "8759                 3.833038  217881  23.993866            617   \n",
      "8760                 2.375214   36998  35.406146            527   \n",
      "8761                 0.029104  209943  27.294020            114   \n",
      "8762                 9.005234  247338  32.914151            180   \n",
      "\n",
      "      Physical Activity Days Per Week  Sleep Hours Per Day         Country  \\\n",
      "0                                   0                    6       Argentina   \n",
      "1                                   1                    7          Canada   \n",
      "2                                   4                    4          France   \n",
      "3                                   3                    4          Canada   \n",
      "4                                   1                    5        Thailand   \n",
      "...                               ...                  ...             ...   \n",
      "8758                                7                    7        Thailand   \n",
      "8759                                4                    9          Canada   \n",
      "8760                                4                    4          Brazil   \n",
      "8761                                2                    8          Brazil   \n",
      "8762                                7                    4  United Kingdom   \n",
      "\n",
      "          Continent           Hemisphere  Heart Attack Risk  \n",
      "0     South America  Southern Hemisphere                  0  \n",
      "1     North America  Northern Hemisphere                  0  \n",
      "2            Europe  Northern Hemisphere                  0  \n",
      "3     North America  Northern Hemisphere                  0  \n",
      "4              Asia  Northern Hemisphere                  0  \n",
      "...             ...                  ...                ...  \n",
      "8758           Asia  Northern Hemisphere                  0  \n",
      "8759  North America  Northern Hemisphere                  0  \n",
      "8760  South America  Southern Hemisphere                  1  \n",
      "8761  South America  Southern Hemisphere                  0  \n",
      "8762         Europe  Northern Hemisphere                  1  \n",
      "\n",
      "[8763 rows x 26 columns]\n"
     ]
    },
    {
     "data": {
      "text/plain": [
       "array(['158/88', '165/93', '174/99', ..., '161/75', '119/67', '138/67'],\n",
       "      dtype=object)"
      ]
     },
     "execution_count": 9,
     "metadata": {},
     "output_type": "execute_result"
    }
   ],
   "source": [
    "\n",
    "df1 = df['Blood Pressure']\n",
    "type(df1)\n",
    "arr = df1.to_numpy()\n",
    "print(df)\n",
    "arr"
   ]
  },
  {
   "cell_type": "markdown",
   "metadata": {},
   "source": [
    "These first few sections of code intend to convert the broadly categorical feature of Blood pressure to a numerical feature of Systolic and Diastolic Blood pressure."
   ]
  },
  {
   "cell_type": "code",
   "execution_count": 10,
   "metadata": {},
   "outputs": [],
   "source": [
    "i = 0\n",
    "a =[]\n",
    "b=[]\n",
    "for i in range(len(arr)):\n",
    "    x, y= arr[i].split('/')\n",
    "    a.append(x)\n",
    "    b.append(y)\n",
    "    "
   ]
  },
  {
   "cell_type": "code",
   "execution_count": 11,
   "metadata": {},
   "outputs": [],
   "source": [
    "df = df.drop(columns= ['Blood Pressure'])\n",
    "df['Systolic BP'] = a\n",
    "df['Diastolic BP'] = b\n",
    "\n"
   ]
  },
  {
   "cell_type": "code",
   "execution_count": 12,
   "metadata": {},
   "outputs": [
    {
     "data": {
      "text/html": [
       "<div>\n",
       "<style scoped>\n",
       "    .dataframe tbody tr th:only-of-type {\n",
       "        vertical-align: middle;\n",
       "    }\n",
       "\n",
       "    .dataframe tbody tr th {\n",
       "        vertical-align: top;\n",
       "    }\n",
       "\n",
       "    .dataframe thead th {\n",
       "        text-align: right;\n",
       "    }\n",
       "</style>\n",
       "<table border=\"1\" class=\"dataframe\">\n",
       "  <thead>\n",
       "    <tr style=\"text-align: right;\">\n",
       "      <th></th>\n",
       "      <th>Patient ID</th>\n",
       "      <th>Age</th>\n",
       "      <th>Sex</th>\n",
       "      <th>Cholesterol</th>\n",
       "      <th>Systolic BP</th>\n",
       "      <th>Diastolic BP</th>\n",
       "      <th>Heart Rate</th>\n",
       "      <th>Diabetes</th>\n",
       "      <th>Family History</th>\n",
       "      <th>Smoking</th>\n",
       "      <th>...</th>\n",
       "      <th>Sedentary Hours Per Day</th>\n",
       "      <th>Income</th>\n",
       "      <th>BMI</th>\n",
       "      <th>Triglycerides</th>\n",
       "      <th>Physical Activity Days Per Week</th>\n",
       "      <th>Sleep Hours Per Day</th>\n",
       "      <th>Country</th>\n",
       "      <th>Continent</th>\n",
       "      <th>Hemisphere</th>\n",
       "      <th>Heart Attack Risk</th>\n",
       "    </tr>\n",
       "  </thead>\n",
       "  <tbody>\n",
       "    <tr>\n",
       "      <th>0</th>\n",
       "      <td>BMW7812</td>\n",
       "      <td>67</td>\n",
       "      <td>Male</td>\n",
       "      <td>208</td>\n",
       "      <td>158</td>\n",
       "      <td>88</td>\n",
       "      <td>72</td>\n",
       "      <td>0</td>\n",
       "      <td>0</td>\n",
       "      <td>1</td>\n",
       "      <td>...</td>\n",
       "      <td>6.615001</td>\n",
       "      <td>261404</td>\n",
       "      <td>31.251233</td>\n",
       "      <td>286</td>\n",
       "      <td>0</td>\n",
       "      <td>6</td>\n",
       "      <td>Argentina</td>\n",
       "      <td>South America</td>\n",
       "      <td>Southern Hemisphere</td>\n",
       "      <td>0</td>\n",
       "    </tr>\n",
       "    <tr>\n",
       "      <th>1</th>\n",
       "      <td>CZE1114</td>\n",
       "      <td>21</td>\n",
       "      <td>Male</td>\n",
       "      <td>389</td>\n",
       "      <td>165</td>\n",
       "      <td>93</td>\n",
       "      <td>98</td>\n",
       "      <td>1</td>\n",
       "      <td>1</td>\n",
       "      <td>1</td>\n",
       "      <td>...</td>\n",
       "      <td>4.963459</td>\n",
       "      <td>285768</td>\n",
       "      <td>27.194973</td>\n",
       "      <td>235</td>\n",
       "      <td>1</td>\n",
       "      <td>7</td>\n",
       "      <td>Canada</td>\n",
       "      <td>North America</td>\n",
       "      <td>Northern Hemisphere</td>\n",
       "      <td>0</td>\n",
       "    </tr>\n",
       "    <tr>\n",
       "      <th>2</th>\n",
       "      <td>BNI9906</td>\n",
       "      <td>21</td>\n",
       "      <td>Female</td>\n",
       "      <td>324</td>\n",
       "      <td>174</td>\n",
       "      <td>99</td>\n",
       "      <td>72</td>\n",
       "      <td>1</td>\n",
       "      <td>0</td>\n",
       "      <td>0</td>\n",
       "      <td>...</td>\n",
       "      <td>9.463426</td>\n",
       "      <td>235282</td>\n",
       "      <td>28.176571</td>\n",
       "      <td>587</td>\n",
       "      <td>4</td>\n",
       "      <td>4</td>\n",
       "      <td>France</td>\n",
       "      <td>Europe</td>\n",
       "      <td>Northern Hemisphere</td>\n",
       "      <td>0</td>\n",
       "    </tr>\n",
       "    <tr>\n",
       "      <th>3</th>\n",
       "      <td>JLN3497</td>\n",
       "      <td>84</td>\n",
       "      <td>Male</td>\n",
       "      <td>383</td>\n",
       "      <td>163</td>\n",
       "      <td>100</td>\n",
       "      <td>73</td>\n",
       "      <td>1</td>\n",
       "      <td>1</td>\n",
       "      <td>1</td>\n",
       "      <td>...</td>\n",
       "      <td>7.648981</td>\n",
       "      <td>125640</td>\n",
       "      <td>36.464704</td>\n",
       "      <td>378</td>\n",
       "      <td>3</td>\n",
       "      <td>4</td>\n",
       "      <td>Canada</td>\n",
       "      <td>North America</td>\n",
       "      <td>Northern Hemisphere</td>\n",
       "      <td>0</td>\n",
       "    </tr>\n",
       "    <tr>\n",
       "      <th>4</th>\n",
       "      <td>GFO8847</td>\n",
       "      <td>66</td>\n",
       "      <td>Male</td>\n",
       "      <td>318</td>\n",
       "      <td>91</td>\n",
       "      <td>88</td>\n",
       "      <td>93</td>\n",
       "      <td>1</td>\n",
       "      <td>1</td>\n",
       "      <td>1</td>\n",
       "      <td>...</td>\n",
       "      <td>1.514821</td>\n",
       "      <td>160555</td>\n",
       "      <td>21.809144</td>\n",
       "      <td>231</td>\n",
       "      <td>1</td>\n",
       "      <td>5</td>\n",
       "      <td>Thailand</td>\n",
       "      <td>Asia</td>\n",
       "      <td>Northern Hemisphere</td>\n",
       "      <td>0</td>\n",
       "    </tr>\n",
       "    <tr>\n",
       "      <th>...</th>\n",
       "      <td>...</td>\n",
       "      <td>...</td>\n",
       "      <td>...</td>\n",
       "      <td>...</td>\n",
       "      <td>...</td>\n",
       "      <td>...</td>\n",
       "      <td>...</td>\n",
       "      <td>...</td>\n",
       "      <td>...</td>\n",
       "      <td>...</td>\n",
       "      <td>...</td>\n",
       "      <td>...</td>\n",
       "      <td>...</td>\n",
       "      <td>...</td>\n",
       "      <td>...</td>\n",
       "      <td>...</td>\n",
       "      <td>...</td>\n",
       "      <td>...</td>\n",
       "      <td>...</td>\n",
       "      <td>...</td>\n",
       "      <td>...</td>\n",
       "    </tr>\n",
       "    <tr>\n",
       "      <th>8758</th>\n",
       "      <td>MSV9918</td>\n",
       "      <td>60</td>\n",
       "      <td>Male</td>\n",
       "      <td>121</td>\n",
       "      <td>94</td>\n",
       "      <td>76</td>\n",
       "      <td>61</td>\n",
       "      <td>1</td>\n",
       "      <td>1</td>\n",
       "      <td>1</td>\n",
       "      <td>...</td>\n",
       "      <td>10.806373</td>\n",
       "      <td>235420</td>\n",
       "      <td>19.655895</td>\n",
       "      <td>67</td>\n",
       "      <td>7</td>\n",
       "      <td>7</td>\n",
       "      <td>Thailand</td>\n",
       "      <td>Asia</td>\n",
       "      <td>Northern Hemisphere</td>\n",
       "      <td>0</td>\n",
       "    </tr>\n",
       "    <tr>\n",
       "      <th>8759</th>\n",
       "      <td>QSV6764</td>\n",
       "      <td>28</td>\n",
       "      <td>Female</td>\n",
       "      <td>120</td>\n",
       "      <td>157</td>\n",
       "      <td>102</td>\n",
       "      <td>73</td>\n",
       "      <td>1</td>\n",
       "      <td>0</td>\n",
       "      <td>0</td>\n",
       "      <td>...</td>\n",
       "      <td>3.833038</td>\n",
       "      <td>217881</td>\n",
       "      <td>23.993866</td>\n",
       "      <td>617</td>\n",
       "      <td>4</td>\n",
       "      <td>9</td>\n",
       "      <td>Canada</td>\n",
       "      <td>North America</td>\n",
       "      <td>Northern Hemisphere</td>\n",
       "      <td>0</td>\n",
       "    </tr>\n",
       "    <tr>\n",
       "      <th>8760</th>\n",
       "      <td>XKA5925</td>\n",
       "      <td>47</td>\n",
       "      <td>Male</td>\n",
       "      <td>250</td>\n",
       "      <td>161</td>\n",
       "      <td>75</td>\n",
       "      <td>105</td>\n",
       "      <td>0</td>\n",
       "      <td>1</td>\n",
       "      <td>1</td>\n",
       "      <td>...</td>\n",
       "      <td>2.375214</td>\n",
       "      <td>36998</td>\n",
       "      <td>35.406146</td>\n",
       "      <td>527</td>\n",
       "      <td>4</td>\n",
       "      <td>4</td>\n",
       "      <td>Brazil</td>\n",
       "      <td>South America</td>\n",
       "      <td>Southern Hemisphere</td>\n",
       "      <td>1</td>\n",
       "    </tr>\n",
       "    <tr>\n",
       "      <th>8761</th>\n",
       "      <td>EPE6801</td>\n",
       "      <td>36</td>\n",
       "      <td>Male</td>\n",
       "      <td>178</td>\n",
       "      <td>119</td>\n",
       "      <td>67</td>\n",
       "      <td>60</td>\n",
       "      <td>1</td>\n",
       "      <td>0</td>\n",
       "      <td>1</td>\n",
       "      <td>...</td>\n",
       "      <td>0.029104</td>\n",
       "      <td>209943</td>\n",
       "      <td>27.294020</td>\n",
       "      <td>114</td>\n",
       "      <td>2</td>\n",
       "      <td>8</td>\n",
       "      <td>Brazil</td>\n",
       "      <td>South America</td>\n",
       "      <td>Southern Hemisphere</td>\n",
       "      <td>0</td>\n",
       "    </tr>\n",
       "    <tr>\n",
       "      <th>8762</th>\n",
       "      <td>ZWN9666</td>\n",
       "      <td>25</td>\n",
       "      <td>Female</td>\n",
       "      <td>356</td>\n",
       "      <td>138</td>\n",
       "      <td>67</td>\n",
       "      <td>75</td>\n",
       "      <td>1</td>\n",
       "      <td>1</td>\n",
       "      <td>0</td>\n",
       "      <td>...</td>\n",
       "      <td>9.005234</td>\n",
       "      <td>247338</td>\n",
       "      <td>32.914151</td>\n",
       "      <td>180</td>\n",
       "      <td>7</td>\n",
       "      <td>4</td>\n",
       "      <td>United Kingdom</td>\n",
       "      <td>Europe</td>\n",
       "      <td>Northern Hemisphere</td>\n",
       "      <td>1</td>\n",
       "    </tr>\n",
       "  </tbody>\n",
       "</table>\n",
       "<p>8763 rows × 27 columns</p>\n",
       "</div>"
      ],
      "text/plain": [
       "     Patient ID  Age     Sex  Cholesterol Systolic BP Diastolic BP  \\\n",
       "0       BMW7812   67    Male          208         158           88   \n",
       "1       CZE1114   21    Male          389         165           93   \n",
       "2       BNI9906   21  Female          324         174           99   \n",
       "3       JLN3497   84    Male          383         163          100   \n",
       "4       GFO8847   66    Male          318          91           88   \n",
       "...         ...  ...     ...          ...         ...          ...   \n",
       "8758    MSV9918   60    Male          121          94           76   \n",
       "8759    QSV6764   28  Female          120         157          102   \n",
       "8760    XKA5925   47    Male          250         161           75   \n",
       "8761    EPE6801   36    Male          178         119           67   \n",
       "8762    ZWN9666   25  Female          356         138           67   \n",
       "\n",
       "      Heart Rate  Diabetes  Family History  Smoking  ...  \\\n",
       "0             72         0               0        1  ...   \n",
       "1             98         1               1        1  ...   \n",
       "2             72         1               0        0  ...   \n",
       "3             73         1               1        1  ...   \n",
       "4             93         1               1        1  ...   \n",
       "...          ...       ...             ...      ...  ...   \n",
       "8758          61         1               1        1  ...   \n",
       "8759          73         1               0        0  ...   \n",
       "8760         105         0               1        1  ...   \n",
       "8761          60         1               0        1  ...   \n",
       "8762          75         1               1        0  ...   \n",
       "\n",
       "      Sedentary Hours Per Day  Income        BMI Triglycerides  \\\n",
       "0                    6.615001  261404  31.251233           286   \n",
       "1                    4.963459  285768  27.194973           235   \n",
       "2                    9.463426  235282  28.176571           587   \n",
       "3                    7.648981  125640  36.464704           378   \n",
       "4                    1.514821  160555  21.809144           231   \n",
       "...                       ...     ...        ...           ...   \n",
       "8758                10.806373  235420  19.655895            67   \n",
       "8759                 3.833038  217881  23.993866           617   \n",
       "8760                 2.375214   36998  35.406146           527   \n",
       "8761                 0.029104  209943  27.294020           114   \n",
       "8762                 9.005234  247338  32.914151           180   \n",
       "\n",
       "      Physical Activity Days Per Week  Sleep Hours Per Day         Country  \\\n",
       "0                                   0                    6       Argentina   \n",
       "1                                   1                    7          Canada   \n",
       "2                                   4                    4          France   \n",
       "3                                   3                    4          Canada   \n",
       "4                                   1                    5        Thailand   \n",
       "...                               ...                  ...             ...   \n",
       "8758                                7                    7        Thailand   \n",
       "8759                                4                    9          Canada   \n",
       "8760                                4                    4          Brazil   \n",
       "8761                                2                    8          Brazil   \n",
       "8762                                7                    4  United Kingdom   \n",
       "\n",
       "          Continent           Hemisphere  Heart Attack Risk  \n",
       "0     South America  Southern Hemisphere                  0  \n",
       "1     North America  Northern Hemisphere                  0  \n",
       "2            Europe  Northern Hemisphere                  0  \n",
       "3     North America  Northern Hemisphere                  0  \n",
       "4              Asia  Northern Hemisphere                  0  \n",
       "...             ...                  ...                ...  \n",
       "8758           Asia  Northern Hemisphere                  0  \n",
       "8759  North America  Northern Hemisphere                  0  \n",
       "8760  South America  Southern Hemisphere                  1  \n",
       "8761  South America  Southern Hemisphere                  0  \n",
       "8762         Europe  Northern Hemisphere                  1  \n",
       "\n",
       "[8763 rows x 27 columns]"
      ]
     },
     "execution_count": 12,
     "metadata": {},
     "output_type": "execute_result"
    }
   ],
   "source": [
    "df.insert(4, 'Systolic BP', df.pop('Systolic BP'))\n",
    "df.insert(5, 'Diastolic BP', df.pop('Diastolic BP'))\n",
    "df"
   ]
  },
  {
   "cell_type": "code",
   "execution_count": 13,
   "metadata": {},
   "outputs": [
    {
     "data": {
      "text/plain": [
       "Index(['Patient ID', 'Age', 'Sex', 'Cholesterol', 'Systolic BP',\n",
       "       'Diastolic BP', 'Heart Rate', 'Diabetes', 'Family History', 'Smoking',\n",
       "       'Obesity', 'Alcohol Consumption', 'Exercise Hours Per Week', 'Diet',\n",
       "       'Previous Heart Problems', 'Medication Use', 'Stress Level',\n",
       "       'Sedentary Hours Per Day', 'Income', 'BMI', 'Triglycerides',\n",
       "       'Physical Activity Days Per Week', 'Sleep Hours Per Day', 'Country',\n",
       "       'Continent', 'Hemisphere', 'Heart Attack Risk'],\n",
       "      dtype='object')"
      ]
     },
     "execution_count": 13,
     "metadata": {},
     "output_type": "execute_result"
    }
   ],
   "source": [
    "df.columns\n"
   ]
  },
  {
   "cell_type": "code",
   "execution_count": 14,
   "metadata": {},
   "outputs": [
    {
     "name": "stdout",
     "output_type": "stream",
     "text": [
      "(8763, 27)\n",
      "1   Patient ID\n",
      "2   Age\n",
      "3   Sex\n",
      "4   Cholesterol\n",
      "5   Systolic BP\n",
      "6   Diastolic BP\n",
      "7   Heart Rate\n",
      "8   Diabetes\n",
      "9   Family History\n",
      "10   Smoking\n",
      "11   Obesity\n",
      "12   Alcohol Consumption\n",
      "13   Exercise Hours Per Week\n",
      "14   Diet\n",
      "15   Previous Heart Problems\n",
      "16   Medication Use\n",
      "17   Stress Level\n",
      "18   Sedentary Hours Per Day\n",
      "19   Income\n",
      "20   BMI\n",
      "21   Triglycerides\n",
      "22   Physical Activity Days Per Week\n",
      "23   Sleep Hours Per Day\n",
      "24   Country\n",
      "25   Continent\n",
      "26   Hemisphere\n",
      "27   Heart Attack Risk\n"
     ]
    }
   ],
   "source": [
    "print(df.shape)\n",
    "n = 1\n",
    "#checking for not null values\n",
    "for i in df.columns:\n",
    "    if(df[i].count() == df.shape[0]):\n",
    "        print(n , \" \" , i)\n",
    "        n = n + 1"
   ]
  },
  {
   "cell_type": "markdown",
   "metadata": {},
   "source": [
    "No null valued feature was encountered with the help of the above code, so no imputation was necessary."
   ]
  },
  {
   "cell_type": "code",
   "execution_count": 15,
   "metadata": {},
   "outputs": [],
   "source": [
    "from sklearn.preprocessing import LabelEncoder\n",
    "l = LabelEncoder()\n",
    "x = l.fit_transform(df['Hemisphere'])\n",
    "df = df.drop(columns=['Hemisphere'])\n",
    "df.insert(25, 'Hemisphere', x)\n",
    "x = l.fit_transform(df['Continent'])\n",
    "df = df.drop(columns=['Continent'])\n",
    "df.insert(24, 'Continent', x)\n",
    "x = l.fit_transform(df['Patient ID'])\n",
    "df = df.drop(columns = ['Patient ID'])\n",
    "df.insert(0, 'Patient ID', x)\n",
    "# label encoding for sex(female = 0, male = 1)\n",
    "x = l.fit_transform(df['Sex'])\n",
    "df = df.drop(columns = ['Sex'])\n",
    "df.insert(2, 'Sex', x)\n",
    "df_sorted = df.sort_values(by = 'Patient ID', ascending = True)\n",
    "x = l.fit_transform(df_sorted['Diet'])\n",
    "df_sorted = df_sorted.drop(columns = ['Diet'])\n",
    "df_sorted.insert(13, 'Diet', x)\n"
   ]
  },
  {
   "cell_type": "markdown",
   "metadata": {},
   "source": [
    "Till this step, all we have been doing is converting all the categorical features to numerical ones for model training.\n"
   ]
  },
  {
   "cell_type": "code",
   "execution_count": null,
   "metadata": {},
   "outputs": [],
   "source": []
  },
  {
   "cell_type": "code",
   "execution_count": 33,
   "metadata": {},
   "outputs": [],
   "source": [
    "import pycountry as pc\n",
    "import pandas as pd\n",
    "import joblib\n",
    "countries = list(pc.countries)\n",
    "country_names = [country.name for country in countries]\n",
    "country_names.append('Vietnam')\n",
    "country_names.append('South Korea')\n",
    "country = pd.DataFrame(country_names, columns=['Country'])\n"
   ]
  },
  {
   "cell_type": "code",
   "execution_count": 34,
   "metadata": {},
   "outputs": [
    {
     "name": "stderr",
     "output_type": "stream",
     "text": [
      "/usr/lib/python3/dist-packages/sklearn/preprocessing/_label.py:97: DataConversionWarning: A column-vector y was passed when a 1d array was expected. Please change the shape of y to (n_samples, ), for example using ravel().\n",
      "  y = column_or_1d(y, warn=True)\n"
     ]
    }
   ],
   "source": [
    "x= LabelEncoder()\n",
    "x.fit(country)\n",
    "\n",
    "joblib.dump(x, 'country.pkl')\n",
    "\n",
    "x = joblib.load('country.pkl')\n",
    "df['Country'] = x.transform(df['Country'])\n",
    "\n"
   ]
  },
  {
   "cell_type": "code",
   "execution_count": 36,
   "metadata": {},
   "outputs": [
    {
     "data": {
      "text/plain": [
       "0       9\n",
       "1      39\n",
       "2      75\n",
       "4     220\n",
       "5      82\n",
       "7     111\n",
       "8      30\n",
       "10    205\n",
       "11    235\n",
       "12    242\n",
       "13     44\n",
       "15    109\n",
       "22    209\n",
       "29    102\n",
       "32    160\n",
       "35    157\n",
       "48    207\n",
       "53     12\n",
       "83     47\n",
       "86    234\n",
       "Name: Country, dtype: int64"
      ]
     },
     "execution_count": 36,
     "metadata": {},
     "output_type": "execute_result"
    }
   ],
   "source": [
    "df['Country'].drop_duplicates()"
   ]
  },
  {
   "cell_type": "code",
   "execution_count": null,
   "metadata": {},
   "outputs": [],
   "source": []
  }
 ],
 "metadata": {
  "kernelspec": {
   "display_name": "Python 3",
   "language": "python",
   "name": "python3"
  },
  "language_info": {
   "codemirror_mode": {
    "name": "ipython",
    "version": 3
   },
   "file_extension": ".py",
   "mimetype": "text/x-python",
   "name": "python",
   "nbconvert_exporter": "python",
   "pygments_lexer": "ipython3",
   "version": "3.12.3"
  }
 },
 "nbformat": 4,
 "nbformat_minor": 2
}
